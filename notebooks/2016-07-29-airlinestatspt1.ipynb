{
 "cells": [
  {
   "cell_type": "code",
   "execution_count": 1,
   "metadata": {
    "collapsed": true
   },
   "outputs": [],
   "source": [
    "import pandas as pd\n",
    "import numpy as np\n",
    "import matplotlib.pyplot as plt\n",
    "import seaborn as sns\n",
    "%matplotlib inline\n",
    "import os"
   ]
  },
  {
   "cell_type": "markdown",
   "metadata": {},
   "source": [
    "Downloaded a few comma-delimited data from the <b>United States Department of Transportation, Bureau of Transportation Statistics website.</b> <br>\n",
    "This data ranges from the months of <b>Janurary - May in 2016.</b><br>\n",
    "\n",
    "In this specific example, I collected data that had either <b>DEST_CITY_NAME</b> or <b>ORGIN_CITY_NAME</b> related to California. What does this mean? It means that a specific flight had either departed or landed in a California based airport.\n",
    "\n",
    "You can use filters to identify a specific dataset you want to look at.<br>\n",
    "You can download your own source [here](http://www.transtats.bts.gov/DL_SelectFields.asp?Table_ID=236&DB_Short_Name=On-Time)"
   ]
  },
  {
   "cell_type": "code",
   "execution_count": 118,
   "metadata": {
    "collapsed": false
   },
   "outputs": [
    {
     "data": {
      "text/plain": [
       "['162820111_T_ONTIME-APRIL.csv',\n",
       " '162820111_T_ONTIME-FEB.csv',\n",
       " '162820111_T_ONTIME-JAN.csv',\n",
       " '162820111_T_ONTIME-MARCH.csv',\n",
       " '162820111_T_ONTIME-MAY.csv']"
      ]
     },
     "execution_count": 118,
     "metadata": {},
     "output_type": "execute_result"
    }
   ],
   "source": [
    "# Assign a list of available files in my data directory (../data/2016/) to a variable\n",
    "files = os.listdir(\"data/2016\");\n",
    "\n",
    "# Display\n",
    "files"
   ]
  },
  {
   "cell_type": "code",
   "execution_count": 119,
   "metadata": {
    "collapsed": false
   },
   "outputs": [
    {
     "name": "stderr",
     "output_type": "stream",
     "text": [
      "//anaconda/lib/python3.5/site-packages/IPython/core/interactiveshell.py:2705: DtypeWarning: Columns (14) have mixed types. Specify dtype option on import or set low_memory=False.\n",
      "  interactivity=interactivity, compiler=compiler, result=result)\n"
     ]
    }
   ],
   "source": [
    "# Read through all files and concat all df into a single dataframe, df.\n",
    "framelist = []\n",
    "\n",
    "for file in files:\n",
    "    tempdf = pd.read_csv(\"data/2016/\" + file)\n",
    "    framelist.append(tempdf)\n",
    "    \n",
    "df = pd.concat(framelist);"
   ]
  },
  {
   "cell_type": "markdown",
   "metadata": {},
   "source": [
    "Let's look at some basic info with the dataset."
   ]
  },
  {
   "cell_type": "code",
   "execution_count": 4,
   "metadata": {
    "collapsed": false
   },
   "outputs": [
    {
     "name": "stdout",
     "output_type": "stream",
     "text": [
      "<class 'pandas.core.frame.DataFrame'>\n",
      "Int64Index: 485856 entries, 0 to 103365\n",
      "Data columns (total 22 columns):\n",
      "YEAR                     485856 non-null int64\n",
      "MONTH                    485856 non-null int64\n",
      "UNIQUE_CARRIER           485856 non-null object\n",
      "AIRLINE_ID               485856 non-null int64\n",
      "ORIGIN_AIRPORT_ID        485856 non-null int64\n",
      "ORIGIN_AIRPORT_SEQ_ID    485856 non-null int64\n",
      "ORIGIN_CITY_MARKET_ID    485856 non-null int64\n",
      "ORIGIN_CITY_NAME         485856 non-null object\n",
      "DEST_AIRPORT_ID          485856 non-null int64\n",
      "DEST_AIRPORT_SEQ_ID      485856 non-null int64\n",
      "DEST_CITY_MARKET_ID      485856 non-null int64\n",
      "DEST_CITY_NAME           485856 non-null object\n",
      "ARR_DELAY_NEW            479829 non-null float64\n",
      "CANCELLED                485856 non-null float64\n",
      "CANCELLATION_CODE        5125 non-null object\n",
      "AIR_TIME                 479829 non-null float64\n",
      "CARRIER_DELAY            85180 non-null float64\n",
      "WEATHER_DELAY            85180 non-null float64\n",
      "NAS_DELAY                85180 non-null float64\n",
      "SECURITY_DELAY           85180 non-null float64\n",
      "LATE_AIRCRAFT_DELAY      85180 non-null float64\n",
      "Unnamed: 21              0 non-null float64\n",
      "dtypes: float64(9), int64(9), object(4)\n",
      "memory usage: 85.3+ MB\n"
     ]
    }
   ],
   "source": [
    "df.info()"
   ]
  },
  {
   "cell_type": "code",
   "execution_count": 5,
   "metadata": {
    "collapsed": false
   },
   "outputs": [
    {
     "data": {
      "text/html": [
       "<div>\n",
       "<table border=\"1\" class=\"dataframe\">\n",
       "  <thead>\n",
       "    <tr style=\"text-align: right;\">\n",
       "      <th></th>\n",
       "      <th>YEAR</th>\n",
       "      <th>MONTH</th>\n",
       "      <th>UNIQUE_CARRIER</th>\n",
       "      <th>AIRLINE_ID</th>\n",
       "      <th>ORIGIN_AIRPORT_ID</th>\n",
       "      <th>ORIGIN_AIRPORT_SEQ_ID</th>\n",
       "      <th>ORIGIN_CITY_MARKET_ID</th>\n",
       "      <th>ORIGIN_CITY_NAME</th>\n",
       "      <th>DEST_AIRPORT_ID</th>\n",
       "      <th>DEST_AIRPORT_SEQ_ID</th>\n",
       "      <th>...</th>\n",
       "      <th>ARR_DELAY_NEW</th>\n",
       "      <th>CANCELLED</th>\n",
       "      <th>CANCELLATION_CODE</th>\n",
       "      <th>AIR_TIME</th>\n",
       "      <th>CARRIER_DELAY</th>\n",
       "      <th>WEATHER_DELAY</th>\n",
       "      <th>NAS_DELAY</th>\n",
       "      <th>SECURITY_DELAY</th>\n",
       "      <th>LATE_AIRCRAFT_DELAY</th>\n",
       "      <th>Unnamed: 21</th>\n",
       "    </tr>\n",
       "  </thead>\n",
       "  <tbody>\n",
       "    <tr>\n",
       "      <th>0</th>\n",
       "      <td>2016</td>\n",
       "      <td>4</td>\n",
       "      <td>AA</td>\n",
       "      <td>19805</td>\n",
       "      <td>12478</td>\n",
       "      <td>1247803</td>\n",
       "      <td>31703</td>\n",
       "      <td>New York, NY</td>\n",
       "      <td>12892</td>\n",
       "      <td>1289203</td>\n",
       "      <td>...</td>\n",
       "      <td>0.0</td>\n",
       "      <td>0.0</td>\n",
       "      <td>NaN</td>\n",
       "      <td>329.0</td>\n",
       "      <td>NaN</td>\n",
       "      <td>NaN</td>\n",
       "      <td>NaN</td>\n",
       "      <td>NaN</td>\n",
       "      <td>NaN</td>\n",
       "      <td>NaN</td>\n",
       "    </tr>\n",
       "    <tr>\n",
       "      <th>1</th>\n",
       "      <td>2016</td>\n",
       "      <td>4</td>\n",
       "      <td>AA</td>\n",
       "      <td>19805</td>\n",
       "      <td>12478</td>\n",
       "      <td>1247803</td>\n",
       "      <td>31703</td>\n",
       "      <td>New York, NY</td>\n",
       "      <td>12892</td>\n",
       "      <td>1289203</td>\n",
       "      <td>...</td>\n",
       "      <td>0.0</td>\n",
       "      <td>0.0</td>\n",
       "      <td>NaN</td>\n",
       "      <td>329.0</td>\n",
       "      <td>NaN</td>\n",
       "      <td>NaN</td>\n",
       "      <td>NaN</td>\n",
       "      <td>NaN</td>\n",
       "      <td>NaN</td>\n",
       "      <td>NaN</td>\n",
       "    </tr>\n",
       "    <tr>\n",
       "      <th>2</th>\n",
       "      <td>2016</td>\n",
       "      <td>4</td>\n",
       "      <td>AA</td>\n",
       "      <td>19805</td>\n",
       "      <td>12478</td>\n",
       "      <td>1247803</td>\n",
       "      <td>31703</td>\n",
       "      <td>New York, NY</td>\n",
       "      <td>12892</td>\n",
       "      <td>1289203</td>\n",
       "      <td>...</td>\n",
       "      <td>68.0</td>\n",
       "      <td>0.0</td>\n",
       "      <td>NaN</td>\n",
       "      <td>339.0</td>\n",
       "      <td>33.0</td>\n",
       "      <td>0.0</td>\n",
       "      <td>7.0</td>\n",
       "      <td>0.0</td>\n",
       "      <td>28.0</td>\n",
       "      <td>NaN</td>\n",
       "    </tr>\n",
       "    <tr>\n",
       "      <th>3</th>\n",
       "      <td>2016</td>\n",
       "      <td>4</td>\n",
       "      <td>AA</td>\n",
       "      <td>19805</td>\n",
       "      <td>12478</td>\n",
       "      <td>1247803</td>\n",
       "      <td>31703</td>\n",
       "      <td>New York, NY</td>\n",
       "      <td>12892</td>\n",
       "      <td>1289203</td>\n",
       "      <td>...</td>\n",
       "      <td>0.0</td>\n",
       "      <td>0.0</td>\n",
       "      <td>NaN</td>\n",
       "      <td>345.0</td>\n",
       "      <td>NaN</td>\n",
       "      <td>NaN</td>\n",
       "      <td>NaN</td>\n",
       "      <td>NaN</td>\n",
       "      <td>NaN</td>\n",
       "      <td>NaN</td>\n",
       "    </tr>\n",
       "    <tr>\n",
       "      <th>4</th>\n",
       "      <td>2016</td>\n",
       "      <td>4</td>\n",
       "      <td>AA</td>\n",
       "      <td>19805</td>\n",
       "      <td>12478</td>\n",
       "      <td>1247803</td>\n",
       "      <td>31703</td>\n",
       "      <td>New York, NY</td>\n",
       "      <td>12892</td>\n",
       "      <td>1289203</td>\n",
       "      <td>...</td>\n",
       "      <td>22.0</td>\n",
       "      <td>0.0</td>\n",
       "      <td>NaN</td>\n",
       "      <td>350.0</td>\n",
       "      <td>0.0</td>\n",
       "      <td>0.0</td>\n",
       "      <td>22.0</td>\n",
       "      <td>0.0</td>\n",
       "      <td>0.0</td>\n",
       "      <td>NaN</td>\n",
       "    </tr>\n",
       "  </tbody>\n",
       "</table>\n",
       "<p>5 rows × 22 columns</p>\n",
       "</div>"
      ],
      "text/plain": [
       "   YEAR  MONTH UNIQUE_CARRIER  AIRLINE_ID  ORIGIN_AIRPORT_ID  \\\n",
       "0  2016      4             AA       19805              12478   \n",
       "1  2016      4             AA       19805              12478   \n",
       "2  2016      4             AA       19805              12478   \n",
       "3  2016      4             AA       19805              12478   \n",
       "4  2016      4             AA       19805              12478   \n",
       "\n",
       "   ORIGIN_AIRPORT_SEQ_ID  ORIGIN_CITY_MARKET_ID ORIGIN_CITY_NAME  \\\n",
       "0                1247803                  31703     New York, NY   \n",
       "1                1247803                  31703     New York, NY   \n",
       "2                1247803                  31703     New York, NY   \n",
       "3                1247803                  31703     New York, NY   \n",
       "4                1247803                  31703     New York, NY   \n",
       "\n",
       "   DEST_AIRPORT_ID  DEST_AIRPORT_SEQ_ID     ...       ARR_DELAY_NEW CANCELLED  \\\n",
       "0            12892              1289203     ...                 0.0       0.0   \n",
       "1            12892              1289203     ...                 0.0       0.0   \n",
       "2            12892              1289203     ...                68.0       0.0   \n",
       "3            12892              1289203     ...                 0.0       0.0   \n",
       "4            12892              1289203     ...                22.0       0.0   \n",
       "\n",
       "   CANCELLATION_CODE  AIR_TIME CARRIER_DELAY  WEATHER_DELAY  NAS_DELAY  \\\n",
       "0                NaN     329.0           NaN            NaN        NaN   \n",
       "1                NaN     329.0           NaN            NaN        NaN   \n",
       "2                NaN     339.0          33.0            0.0        7.0   \n",
       "3                NaN     345.0           NaN            NaN        NaN   \n",
       "4                NaN     350.0           0.0            0.0       22.0   \n",
       "\n",
       "   SECURITY_DELAY  LATE_AIRCRAFT_DELAY  Unnamed: 21  \n",
       "0             NaN                  NaN          NaN  \n",
       "1             NaN                  NaN          NaN  \n",
       "2             0.0                 28.0          NaN  \n",
       "3             NaN                  NaN          NaN  \n",
       "4             0.0                  0.0          NaN  \n",
       "\n",
       "[5 rows x 22 columns]"
      ]
     },
     "execution_count": 5,
     "metadata": {},
     "output_type": "execute_result"
    }
   ],
   "source": [
    "df.head()"
   ]
  },
  {
   "cell_type": "code",
   "execution_count": 6,
   "metadata": {
    "collapsed": false
   },
   "outputs": [],
   "source": [
    "# Drop the last column in place, 'Unnamed: 21', which is the -1 index\n",
    "df.drop(df.columns[[-1]], axis=1, inplace=True)"
   ]
  },
  {
   "cell_type": "markdown",
   "metadata": {},
   "source": [
    "Lets see what different airlines we have data for."
   ]
  },
  {
   "cell_type": "code",
   "execution_count": 7,
   "metadata": {
    "collapsed": false
   },
   "outputs": [
    {
     "data": {
      "text/plain": [
       "array(['AA', 'AS', 'B6', 'DL', 'F9', 'HA', 'NK', 'OO', 'UA', 'VX', 'WN'], dtype=object)"
      ]
     },
     "execution_count": 7,
     "metadata": {},
     "output_type": "execute_result"
    }
   ],
   "source": [
    "df.UNIQUE_CARRIER.unique()"
   ]
  },
  {
   "cell_type": "markdown",
   "metadata": {},
   "source": [
    "I retrieved this information from a lookup table from the transtats website, let's assign it to a key/value dict for later use."
   ]
  },
  {
   "cell_type": "code",
   "execution_count": 8,
   "metadata": {
    "collapsed": false
   },
   "outputs": [
    {
     "data": {
      "text/html": [
       "<div>\n",
       "<table border=\"1\" class=\"dataframe\">\n",
       "  <thead>\n",
       "    <tr style=\"text-align: right;\">\n",
       "      <th></th>\n",
       "      <th>0</th>\n",
       "    </tr>\n",
       "  </thead>\n",
       "  <tbody>\n",
       "    <tr>\n",
       "      <th>VX</th>\n",
       "      <td>Virgin America</td>\n",
       "    </tr>\n",
       "    <tr>\n",
       "      <th>DL</th>\n",
       "      <td>Delta Airlines Inc.</td>\n",
       "    </tr>\n",
       "    <tr>\n",
       "      <th>NK</th>\n",
       "      <td>Spirit Airlines</td>\n",
       "    </tr>\n",
       "    <tr>\n",
       "      <th>F9</th>\n",
       "      <td>Frontier Airlines Inc</td>\n",
       "    </tr>\n",
       "    <tr>\n",
       "      <th>AA</th>\n",
       "      <td>American Airlines Inc</td>\n",
       "    </tr>\n",
       "    <tr>\n",
       "      <th>B6</th>\n",
       "      <td>JetBlue Airways</td>\n",
       "    </tr>\n",
       "    <tr>\n",
       "      <th>HA</th>\n",
       "      <td>Hawaiian Airlines Inc</td>\n",
       "    </tr>\n",
       "    <tr>\n",
       "      <th>UA</th>\n",
       "      <td>United Airlines Inc.</td>\n",
       "    </tr>\n",
       "    <tr>\n",
       "      <th>OO</th>\n",
       "      <td>SkyWest Airlines Inc</td>\n",
       "    </tr>\n",
       "    <tr>\n",
       "      <th>WN</th>\n",
       "      <td>Southwest Airlines Co</td>\n",
       "    </tr>\n",
       "    <tr>\n",
       "      <th>AS</th>\n",
       "      <td>Alaska Airlines Inc.</td>\n",
       "    </tr>\n",
       "  </tbody>\n",
       "</table>\n",
       "</div>"
      ],
      "text/plain": [
       "                        0\n",
       "VX         Virgin America\n",
       "DL    Delta Airlines Inc.\n",
       "NK        Spirit Airlines\n",
       "F9  Frontier Airlines Inc\n",
       "AA  American Airlines Inc\n",
       "B6        JetBlue Airways\n",
       "HA  Hawaiian Airlines Inc\n",
       "UA   United Airlines Inc.\n",
       "OO   SkyWest Airlines Inc\n",
       "WN  Southwest Airlines Co\n",
       "AS   Alaska Airlines Inc."
      ]
     },
     "execution_count": 8,
     "metadata": {},
     "output_type": "execute_result"
    }
   ],
   "source": [
    "airlinekeys = {'AA': 'American Airlines Inc',\n",
    "               'AS': 'Alaska Airlines Inc.',\n",
    "               'B6': 'JetBlue Airways',\n",
    "               'DL': 'Delta Airlines Inc.',\n",
    "               'F9': 'Frontier Airlines Inc',\n",
    "               'HA': 'Hawaiian Airlines Inc',\n",
    "               'NK': 'Spirit Airlines',\n",
    "               'OO': 'SkyWest Airlines Inc',\n",
    "               'UA': 'United Airlines Inc.',\n",
    "               'VX': 'Virgin America',\n",
    "               'WN': 'Southwest Airlines Co' }\n",
    "\n",
    "pd.DataFrame.from_dict(airlinekeys, orient=\"index\")"
   ]
  },
  {
   "cell_type": "markdown",
   "metadata": {},
   "source": [
    "### Amount of flights recorded"
   ]
  },
  {
   "cell_type": "code",
   "execution_count": 120,
   "metadata": {
    "collapsed": false
   },
   "outputs": [
    {
     "data": {
      "text/plain": [
       "WN    138315\n",
       "OO     72990\n",
       "UA     70824\n",
       "AA     67302\n",
       "DL     47548\n",
       "AS     29289\n",
       "VX     24433\n",
       "B6     17043\n",
       "NK      9736\n",
       "F9      4574\n",
       "HA      3802\n",
       "Name: UNIQUE_CARRIER, dtype: int64"
      ]
     },
     "execution_count": 120,
     "metadata": {},
     "output_type": "execute_result"
    }
   ],
   "source": [
    "# Display frequency of each airline recorded.\n",
    "df['UNIQUE_CARRIER'].value_counts()"
   ]
  },
  {
   "cell_type": "markdown",
   "metadata": {},
   "source": [
    "So, as you can see here, 'WN' (Southwest) services the most flights IN/OUT of California. 'HA' (Hawaiian Airlines) has the fewest.<br>\n",
    "\n",
    "Lets visualize that."
   ]
  },
  {
   "cell_type": "code",
   "execution_count": 122,
   "metadata": {
    "collapsed": false
   },
   "outputs": [
    {
     "data": {
      "text/plain": [
       "<matplotlib.text.Text at 0x118856b00>"
      ]
     },
     "execution_count": 122,
     "metadata": {},
     "output_type": "execute_result"
    },
    {
     "data": {
      "image/png": "[encoded data removed]",
      "text/plain": [
       "<matplotlib.figure.Figure at 0x118103048>"
      ]
     },
     "metadata": {},
     "output_type": "display_data"
    }
   ],
   "source": [
    "fig = plt.figure(figsize=(20,10))\n",
    "\n",
    "df.UNIQUE_CARRIER.value_counts().plot(kind='barh')\n",
    "\n",
    "plt.ylabel('Frequency', fontsize=15); plt.xlabel('Airline', fontsize=15)\n",
    "plt.tick_params(axis='both', labelsize=15)\n",
    "plt.title('Amount of flights recorded per airline (2016)', fontsize=15)"
   ]
  },
  {
   "cell_type": "markdown",
   "metadata": {},
   "source": [
    "### Delay Statistics"
   ]
  },
  {
   "cell_type": "code",
   "execution_count": 125,
   "metadata": {
    "collapsed": true
   },
   "outputs": [],
   "source": [
    "# Function to return a dictionary of all delays greater than 0 per carrier\n",
    "\n",
    "def delayratio(carrier):\n",
    "    \n",
    "    carrier = carrier.upper()\n",
    "    \n",
    "    total = (df.ix[(df['UNIQUE_CARRIER'] == carrier)]).shape[0]\n",
    "    delays = (df.ix[(df['UNIQUE_CARRIER'] == carrier ) & (df['ARR_DELAY_NEW'] > 0 )]).shape[0]\n",
    "\n",
    "    return({ 'Airline': carrier, 'Total': total, 'Delays': delays })"
   ]
  },
  {
   "cell_type": "code",
   "execution_count": 128,
   "metadata": {
    "collapsed": false
   },
   "outputs": [
    {
     "name": "stdout",
     "output_type": "stream",
     "text": [
      "['AA', 'AS', 'B6', 'DL', 'F9', 'HA', 'NK', 'OO', 'UA', 'VX', 'WN']\n"
     ]
    }
   ],
   "source": [
    "carrierlist = list(df.UNIQUE_CARRIER.unique())\n",
    "\n",
    "print(carrierlist)"
   ]
  },
  {
   "cell_type": "code",
   "execution_count": 130,
   "metadata": {
    "collapsed": false
   },
   "outputs": [
    {
     "data": {
      "text/plain": [
       "[{'Airline': 'AA', 'Delays': 23258, 'Total': 67302},\n",
       " {'Airline': 'AS', 'Delays': 9412, 'Total': 29289},\n",
       " {'Airline': 'B6', 'Delays': 6750, 'Total': 17043},\n",
       " {'Airline': 'DL', 'Delays': 14263, 'Total': 47548},\n",
       " {'Airline': 'F9', 'Delays': 1389, 'Total': 4574},\n",
       " {'Airline': 'HA', 'Delays': 1276, 'Total': 3802},\n",
       " {'Airline': 'NK', 'Delays': 4701, 'Total': 9736},\n",
       " {'Airline': 'OO', 'Delays': 25704, 'Total': 72990},\n",
       " {'Airline': 'UA', 'Delays': 19553, 'Total': 70824},\n",
       " {'Airline': 'VX', 'Delays': 9989, 'Total': 24433},\n",
       " {'Airline': 'WN', 'Delays': 56518, 'Total': 138315}]"
      ]
     },
     "execution_count": 130,
     "metadata": {},
     "output_type": "execute_result"
    }
   ],
   "source": [
    "dflist = []\n",
    "\n",
    "for val, item in enumerate(carrierlist):\n",
    "    dflist.append(delayratio(carrierlist[val]))\n",
    "\n",
    "dflist"
   ]
  },
  {
   "cell_type": "code",
   "execution_count": 131,
   "metadata": {
    "collapsed": false
   },
   "outputs": [],
   "source": [
    "# Let's put the list of dicts into a dataframe\n",
    "delayratiodf = pd.DataFrame(dflist)\n",
    "\n",
    "# Let's set the index of the dataframe to be 'Airline'\n",
    "delayratiodf.set_index('Airline', inplace=True)\n",
    "\n",
    "# Let's use the airlinekey dictionary we made earlier to replace the airline codenames\n",
    "delayratiodf.rename(index=airlinekeys, inplace=True)"
   ]
  },
  {
   "cell_type": "code",
   "execution_count": 132,
   "metadata": {
    "collapsed": false
   },
   "outputs": [
    {
     "data": {
      "text/html": [
       "<div>\n",
       "<table border=\"1\" class=\"dataframe\">\n",
       "  <thead>\n",
       "    <tr style=\"text-align: right;\">\n",
       "      <th></th>\n",
       "      <th>Delays</th>\n",
       "      <th>Total</th>\n",
       "    </tr>\n",
       "    <tr>\n",
       "      <th>Airline</th>\n",
       "      <th></th>\n",
       "      <th></th>\n",
       "    </tr>\n",
       "  </thead>\n",
       "  <tbody>\n",
       "    <tr>\n",
       "      <th>American Airlines Inc</th>\n",
       "      <td>23258</td>\n",
       "      <td>67302</td>\n",
       "    </tr>\n",
       "    <tr>\n",
       "      <th>Alaska Airlines Inc.</th>\n",
       "      <td>9412</td>\n",
       "      <td>29289</td>\n",
       "    </tr>\n",
       "    <tr>\n",
       "      <th>JetBlue Airways</th>\n",
       "      <td>6750</td>\n",
       "      <td>17043</td>\n",
       "    </tr>\n",
       "    <tr>\n",
       "      <th>Delta Airlines Inc.</th>\n",
       "      <td>14263</td>\n",
       "      <td>47548</td>\n",
       "    </tr>\n",
       "    <tr>\n",
       "      <th>Frontier Airlines Inc</th>\n",
       "      <td>1389</td>\n",
       "      <td>4574</td>\n",
       "    </tr>\n",
       "    <tr>\n",
       "      <th>Hawaiian Airlines Inc</th>\n",
       "      <td>1276</td>\n",
       "      <td>3802</td>\n",
       "    </tr>\n",
       "    <tr>\n",
       "      <th>Spirit Airlines</th>\n",
       "      <td>4701</td>\n",
       "      <td>9736</td>\n",
       "    </tr>\n",
       "    <tr>\n",
       "      <th>SkyWest Airlines Inc</th>\n",
       "      <td>25704</td>\n",
       "      <td>72990</td>\n",
       "    </tr>\n",
       "    <tr>\n",
       "      <th>United Airlines Inc.</th>\n",
       "      <td>19553</td>\n",
       "      <td>70824</td>\n",
       "    </tr>\n",
       "    <tr>\n",
       "      <th>Virgin America</th>\n",
       "      <td>9989</td>\n",
       "      <td>24433</td>\n",
       "    </tr>\n",
       "    <tr>\n",
       "      <th>Southwest Airlines Co</th>\n",
       "      <td>56518</td>\n",
       "      <td>138315</td>\n",
       "    </tr>\n",
       "  </tbody>\n",
       "</table>\n",
       "</div>"
      ],
      "text/plain": [
       "                       Delays   Total\n",
       "Airline                              \n",
       "American Airlines Inc   23258   67302\n",
       "Alaska Airlines Inc.     9412   29289\n",
       "JetBlue Airways          6750   17043\n",
       "Delta Airlines Inc.     14263   47548\n",
       "Frontier Airlines Inc    1389    4574\n",
       "Hawaiian Airlines Inc    1276    3802\n",
       "Spirit Airlines          4701    9736\n",
       "SkyWest Airlines Inc    25704   72990\n",
       "United Airlines Inc.    19553   70824\n",
       "Virgin America           9989   24433\n",
       "Southwest Airlines Co   56518  138315"
      ]
     },
     "execution_count": 132,
     "metadata": {},
     "output_type": "execute_result"
    }
   ],
   "source": [
    "delayratiodf"
   ]
  },
  {
   "cell_type": "code",
   "execution_count": 145,
   "metadata": {
    "collapsed": false
   },
   "outputs": [
    {
     "data": {
      "text/plain": [
       "<matplotlib.legend.Legend at 0x115d52b70>"
      ]
     },
     "execution_count": 145,
     "metadata": {},
     "output_type": "execute_result"
    },
    {
     "data": {
      "image/png": "[encoded data removed]",
      "text/plain": [
       "<matplotlib.figure.Figure at 0x115d68550>"
      ]
     },
     "metadata": {},
     "output_type": "display_data"
    }
   ],
   "source": [
    "# Lets sort by total flights\n",
    "delayratiodf.sort_values('Total', inplace=True)\n",
    "\n",
    "# Create a stacked barchart\n",
    "plot = delayratiodf[['Delays', 'Total']].plot(kind='barh', figsize=(20,15), legend=True, fontsize=20, color=['r', 'b'])\n",
    "\n",
    "# Increase the legend size\n",
    "plot.legend(loc=4, prop={'size':20})"
   ]
  },
  {
   "cell_type": "markdown",
   "metadata": {},
   "source": [
    "### Frequency of delays"
   ]
  },
  {
   "cell_type": "code",
   "execution_count": 146,
   "metadata": {
    "collapsed": true
   },
   "outputs": [],
   "source": [
    "# Simple function to determine ratio\n",
    "def ratio(df):\n",
    "    \n",
    "    return float(\"%.2f\" % ((df[0]/df[1])*100))"
   ]
  },
  {
   "cell_type": "code",
   "execution_count": 147,
   "metadata": {
    "collapsed": false
   },
   "outputs": [],
   "source": [
    "# Create a new column 'Percentage', and apply the function 'ratio' to the data.\n",
    "delayratiodf['Percentage'] = delayratiodf.apply(ratio, axis=1)\n",
    "\n",
    "# Sort values again by percentage\n",
    "delayratiodf.sort_values('Percentage', inplace=True)"
   ]
  },
  {
   "cell_type": "code",
   "execution_count": 148,
   "metadata": {
    "collapsed": false,
    "scrolled": true
   },
   "outputs": [
    {
     "data": {
      "text/html": [
       "<div>\n",
       "<table border=\"1\" class=\"dataframe\">\n",
       "  <thead>\n",
       "    <tr style=\"text-align: right;\">\n",
       "      <th></th>\n",
       "      <th>Delays</th>\n",
       "      <th>Total</th>\n",
       "      <th>Percentage</th>\n",
       "    </tr>\n",
       "    <tr>\n",
       "      <th>Airline</th>\n",
       "      <th></th>\n",
       "      <th></th>\n",
       "      <th></th>\n",
       "    </tr>\n",
       "  </thead>\n",
       "  <tbody>\n",
       "    <tr>\n",
       "      <th>United Airlines Inc.</th>\n",
       "      <td>19553</td>\n",
       "      <td>70824</td>\n",
       "      <td>27.61</td>\n",
       "    </tr>\n",
       "    <tr>\n",
       "      <th>Delta Airlines Inc.</th>\n",
       "      <td>14263</td>\n",
       "      <td>47548</td>\n",
       "      <td>30.00</td>\n",
       "    </tr>\n",
       "    <tr>\n",
       "      <th>Frontier Airlines Inc</th>\n",
       "      <td>1389</td>\n",
       "      <td>4574</td>\n",
       "      <td>30.37</td>\n",
       "    </tr>\n",
       "    <tr>\n",
       "      <th>Alaska Airlines Inc.</th>\n",
       "      <td>9412</td>\n",
       "      <td>29289</td>\n",
       "      <td>32.13</td>\n",
       "    </tr>\n",
       "    <tr>\n",
       "      <th>Hawaiian Airlines Inc</th>\n",
       "      <td>1276</td>\n",
       "      <td>3802</td>\n",
       "      <td>33.56</td>\n",
       "    </tr>\n",
       "    <tr>\n",
       "      <th>American Airlines Inc</th>\n",
       "      <td>23258</td>\n",
       "      <td>67302</td>\n",
       "      <td>34.56</td>\n",
       "    </tr>\n",
       "    <tr>\n",
       "      <th>SkyWest Airlines Inc</th>\n",
       "      <td>25704</td>\n",
       "      <td>72990</td>\n",
       "      <td>35.22</td>\n",
       "    </tr>\n",
       "    <tr>\n",
       "      <th>JetBlue Airways</th>\n",
       "      <td>6750</td>\n",
       "      <td>17043</td>\n",
       "      <td>39.61</td>\n",
       "    </tr>\n",
       "    <tr>\n",
       "      <th>Southwest Airlines Co</th>\n",
       "      <td>56518</td>\n",
       "      <td>138315</td>\n",
       "      <td>40.86</td>\n",
       "    </tr>\n",
       "    <tr>\n",
       "      <th>Virgin America</th>\n",
       "      <td>9989</td>\n",
       "      <td>24433</td>\n",
       "      <td>40.88</td>\n",
       "    </tr>\n",
       "    <tr>\n",
       "      <th>Spirit Airlines</th>\n",
       "      <td>4701</td>\n",
       "      <td>9736</td>\n",
       "      <td>48.28</td>\n",
       "    </tr>\n",
       "  </tbody>\n",
       "</table>\n",
       "</div>"
      ],
      "text/plain": [
       "                       Delays   Total  Percentage\n",
       "Airline                                          \n",
       "United Airlines Inc.    19553   70824       27.61\n",
       "Delta Airlines Inc.     14263   47548       30.00\n",
       "Frontier Airlines Inc    1389    4574       30.37\n",
       "Alaska Airlines Inc.     9412   29289       32.13\n",
       "Hawaiian Airlines Inc    1276    3802       33.56\n",
       "American Airlines Inc   23258   67302       34.56\n",
       "SkyWest Airlines Inc    25704   72990       35.22\n",
       "JetBlue Airways          6750   17043       39.61\n",
       "Southwest Airlines Co   56518  138315       40.86\n",
       "Virgin America           9989   24433       40.88\n",
       "Spirit Airlines          4701    9736       48.28"
      ]
     },
     "execution_count": 148,
     "metadata": {},
     "output_type": "execute_result"
    }
   ],
   "source": [
    "delayratiodf"
   ]
  },
  {
   "cell_type": "markdown",
   "metadata": {},
   "source": [
    "According to this, <b>Spirit Airlines</b> is the worst performing in terms of delay frequency at <b>48%</b> of the time, and <b>United Airlines</b> has the lowest chance, <b>27.61%</b><br>\n",
    "\n",
    "Let's visualize that"
   ]
  },
  {
   "cell_type": "code",
   "execution_count": 149,
   "metadata": {
    "collapsed": false,
    "scrolled": false
   },
   "outputs": [
    {
     "data": {
      "image/png": "[encoded data removed]",
      "text/plain": [
       "<matplotlib.figure.Figure at 0x114c802e8>"
      ]
     },
     "metadata": {},
     "output_type": "display_data"
    }
   ],
   "source": [
    "ax = delayratiodf.plot(y='Percentage', kind='barh', figsize=(20,10), title='Percntage of delayed flights', color='red')\n",
    "\n",
    "plt.ylabel('Percentage', fontsize=15); plt.xlabel('Airline', fontsize=20)\n",
    "plt.tick_params(axis='both', labelsize=20)\n",
    "\n",
    "for p in ax.patches:\n",
    "    ax.annotate(\"%.2f\" % p.get_width(), (p.get_x() + p.get_width(), p.get_y()), xytext=(5, 10), textcoords='offset points')"
   ]
  },
  {
   "cell_type": "markdown",
   "metadata": {},
   "source": [
    "## To be continued..."
   ]
  },
  {
   "cell_type": "code",
   "execution_count": null,
   "metadata": {
    "collapsed": true
   },
   "outputs": [],
   "source": []
  }
 ],
 "metadata": {
  "kernelspec": {
   "display_name": "Python 3",
   "language": "python",
   "name": "python3"
  },
  "language_info": {
   "codemirror_mode": {
    "name": "ipython",
    "version": 3
   },
   "file_extension": ".py",
   "mimetype": "text/x-python",
   "name": "python",
   "nbconvert_exporter": "python",
   "pygments_lexer": "ipython3",
   "version": "3.5.2"
  }
 },
 "nbformat": 4,
 "nbformat_minor": 0
}
